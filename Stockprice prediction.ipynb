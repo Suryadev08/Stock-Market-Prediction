{
 "cells": [
  {
   "cell_type": "code",
   "execution_count": null,
   "metadata": {},
   "outputs": [],
   "source": []
  },
  {
   "cell_type": "code",
   "execution_count": 12,
   "metadata": {},
   "outputs": [],
   "source": [
    " import pandas_datareader as pdr"
   ]
  },
  {
   "cell_type": "code",
   "execution_count": 13,
   "metadata": {},
   "outputs": [],
   "source": [
    "import os"
   ]
  },
  {
   "cell_type": "code",
   "execution_count": 14,
   "metadata": {},
   "outputs": [],
   "source": [
    "df = pdr.get_data_tiingo('GOOG', api_key='8c20d3dcb50744d14b97326576601d1289f0e07c')"
   ]
  },
  {
   "cell_type": "code",
   "execution_count": 15,
   "metadata": {},
   "outputs": [],
   "source": [
    "df.to_csv('GOOG.csv')"
   ]
  },
  {
   "cell_type": "code",
   "execution_count": 16,
   "metadata": {},
   "outputs": [],
   "source": [
    "import pandas as pd"
   ]
  },
  {
   "cell_type": "code",
   "execution_count": 17,
   "metadata": {},
   "outputs": [],
   "source": [
    "df=pd.read_csv('GOOG.csv')"
   ]
  },
  {
   "cell_type": "code",
   "execution_count": 18,
   "metadata": {},
   "outputs": [
    {
     "data": {
      "text/html": [
       "<div>\n",
       "<style scoped>\n",
       "    .dataframe tbody tr th:only-of-type {\n",
       "        vertical-align: middle;\n",
       "    }\n",
       "\n",
       "    .dataframe tbody tr th {\n",
       "        vertical-align: top;\n",
       "    }\n",
       "\n",
       "    .dataframe thead th {\n",
       "        text-align: right;\n",
       "    }\n",
       "</style>\n",
       "<table border=\"1\" class=\"dataframe\">\n",
       "  <thead>\n",
       "    <tr style=\"text-align: right;\">\n",
       "      <th></th>\n",
       "      <th>symbol</th>\n",
       "      <th>date</th>\n",
       "      <th>close</th>\n",
       "      <th>high</th>\n",
       "      <th>low</th>\n",
       "      <th>open</th>\n",
       "      <th>volume</th>\n",
       "      <th>adjClose</th>\n",
       "      <th>adjHigh</th>\n",
       "      <th>adjLow</th>\n",
       "      <th>adjOpen</th>\n",
       "      <th>adjVolume</th>\n",
       "      <th>divCash</th>\n",
       "      <th>splitFactor</th>\n",
       "    </tr>\n",
       "  </thead>\n",
       "  <tbody>\n",
       "    <tr>\n",
       "      <th>0</th>\n",
       "      <td>GOOG</td>\n",
       "      <td>2015-12-14 00:00:00+00:00</td>\n",
       "      <td>747.77</td>\n",
       "      <td>748.73</td>\n",
       "      <td>724.170</td>\n",
       "      <td>741.79</td>\n",
       "      <td>2421236</td>\n",
       "      <td>747.77</td>\n",
       "      <td>748.73</td>\n",
       "      <td>724.170</td>\n",
       "      <td>741.79</td>\n",
       "      <td>2421236</td>\n",
       "      <td>0.0</td>\n",
       "      <td>1.0</td>\n",
       "    </tr>\n",
       "    <tr>\n",
       "      <th>1</th>\n",
       "      <td>GOOG</td>\n",
       "      <td>2015-12-15 00:00:00+00:00</td>\n",
       "      <td>743.40</td>\n",
       "      <td>758.08</td>\n",
       "      <td>743.010</td>\n",
       "      <td>753.00</td>\n",
       "      <td>2666229</td>\n",
       "      <td>743.40</td>\n",
       "      <td>758.08</td>\n",
       "      <td>743.010</td>\n",
       "      <td>753.00</td>\n",
       "      <td>2666229</td>\n",
       "      <td>0.0</td>\n",
       "      <td>1.0</td>\n",
       "    </tr>\n",
       "    <tr>\n",
       "      <th>2</th>\n",
       "      <td>GOOG</td>\n",
       "      <td>2015-12-16 00:00:00+00:00</td>\n",
       "      <td>758.09</td>\n",
       "      <td>760.59</td>\n",
       "      <td>739.435</td>\n",
       "      <td>750.00</td>\n",
       "      <td>1993251</td>\n",
       "      <td>758.09</td>\n",
       "      <td>760.59</td>\n",
       "      <td>739.435</td>\n",
       "      <td>750.00</td>\n",
       "      <td>1993251</td>\n",
       "      <td>0.0</td>\n",
       "      <td>1.0</td>\n",
       "    </tr>\n",
       "    <tr>\n",
       "      <th>3</th>\n",
       "      <td>GOOG</td>\n",
       "      <td>2015-12-17 00:00:00+00:00</td>\n",
       "      <td>749.43</td>\n",
       "      <td>762.68</td>\n",
       "      <td>749.000</td>\n",
       "      <td>762.42</td>\n",
       "      <td>1553418</td>\n",
       "      <td>749.43</td>\n",
       "      <td>762.68</td>\n",
       "      <td>749.000</td>\n",
       "      <td>762.42</td>\n",
       "      <td>1553418</td>\n",
       "      <td>0.0</td>\n",
       "      <td>1.0</td>\n",
       "    </tr>\n",
       "    <tr>\n",
       "      <th>4</th>\n",
       "      <td>GOOG</td>\n",
       "      <td>2015-12-18 00:00:00+00:00</td>\n",
       "      <td>739.31</td>\n",
       "      <td>754.13</td>\n",
       "      <td>738.150</td>\n",
       "      <td>746.51</td>\n",
       "      <td>3148743</td>\n",
       "      <td>739.31</td>\n",
       "      <td>754.13</td>\n",
       "      <td>738.150</td>\n",
       "      <td>746.51</td>\n",
       "      <td>3148743</td>\n",
       "      <td>0.0</td>\n",
       "      <td>1.0</td>\n",
       "    </tr>\n",
       "  </tbody>\n",
       "</table>\n",
       "</div>"
      ],
      "text/plain": [
       "  symbol                       date   close    high      low    open   volume  \\\n",
       "0   GOOG  2015-12-14 00:00:00+00:00  747.77  748.73  724.170  741.79  2421236   \n",
       "1   GOOG  2015-12-15 00:00:00+00:00  743.40  758.08  743.010  753.00  2666229   \n",
       "2   GOOG  2015-12-16 00:00:00+00:00  758.09  760.59  739.435  750.00  1993251   \n",
       "3   GOOG  2015-12-17 00:00:00+00:00  749.43  762.68  749.000  762.42  1553418   \n",
       "4   GOOG  2015-12-18 00:00:00+00:00  739.31  754.13  738.150  746.51  3148743   \n",
       "\n",
       "   adjClose  adjHigh   adjLow  adjOpen  adjVolume  divCash  splitFactor  \n",
       "0    747.77   748.73  724.170   741.79    2421236      0.0          1.0  \n",
       "1    743.40   758.08  743.010   753.00    2666229      0.0          1.0  \n",
       "2    758.09   760.59  739.435   750.00    1993251      0.0          1.0  \n",
       "3    749.43   762.68  749.000   762.42    1553418      0.0          1.0  \n",
       "4    739.31   754.13  738.150   746.51    3148743      0.0          1.0  "
      ]
     },
     "execution_count": 18,
     "metadata": {},
     "output_type": "execute_result"
    }
   ],
   "source": [
    "df.head()"
   ]
  },
  {
   "cell_type": "code",
   "execution_count": 19,
   "metadata": {},
   "outputs": [
    {
     "data": {
      "text/html": [
       "<div>\n",
       "<style scoped>\n",
       "    .dataframe tbody tr th:only-of-type {\n",
       "        vertical-align: middle;\n",
       "    }\n",
       "\n",
       "    .dataframe tbody tr th {\n",
       "        vertical-align: top;\n",
       "    }\n",
       "\n",
       "    .dataframe thead th {\n",
       "        text-align: right;\n",
       "    }\n",
       "</style>\n",
       "<table border=\"1\" class=\"dataframe\">\n",
       "  <thead>\n",
       "    <tr style=\"text-align: right;\">\n",
       "      <th></th>\n",
       "      <th>symbol</th>\n",
       "      <th>date</th>\n",
       "      <th>close</th>\n",
       "      <th>high</th>\n",
       "      <th>low</th>\n",
       "      <th>open</th>\n",
       "      <th>volume</th>\n",
       "      <th>adjClose</th>\n",
       "      <th>adjHigh</th>\n",
       "      <th>adjLow</th>\n",
       "      <th>adjOpen</th>\n",
       "      <th>adjVolume</th>\n",
       "      <th>divCash</th>\n",
       "      <th>splitFactor</th>\n",
       "    </tr>\n",
       "  </thead>\n",
       "  <tbody>\n",
       "    <tr>\n",
       "      <th>1252</th>\n",
       "      <td>GOOG</td>\n",
       "      <td>2020-12-03 00:00:00+00:00</td>\n",
       "      <td>1826.77</td>\n",
       "      <td>1847.20</td>\n",
       "      <td>1822.6500</td>\n",
       "      <td>1824.01</td>\n",
       "      <td>1227298</td>\n",
       "      <td>1826.77</td>\n",
       "      <td>1847.20</td>\n",
       "      <td>1822.6500</td>\n",
       "      <td>1824.01</td>\n",
       "      <td>1227298</td>\n",
       "      <td>0.0</td>\n",
       "      <td>1.0</td>\n",
       "    </tr>\n",
       "    <tr>\n",
       "      <th>1253</th>\n",
       "      <td>GOOG</td>\n",
       "      <td>2020-12-04 00:00:00+00:00</td>\n",
       "      <td>1827.99</td>\n",
       "      <td>1833.16</td>\n",
       "      <td>1816.9900</td>\n",
       "      <td>1824.52</td>\n",
       "      <td>1378166</td>\n",
       "      <td>1827.99</td>\n",
       "      <td>1833.16</td>\n",
       "      <td>1816.9900</td>\n",
       "      <td>1824.52</td>\n",
       "      <td>1378166</td>\n",
       "      <td>0.0</td>\n",
       "      <td>1.0</td>\n",
       "    </tr>\n",
       "    <tr>\n",
       "      <th>1254</th>\n",
       "      <td>GOOG</td>\n",
       "      <td>2020-12-07 00:00:00+00:00</td>\n",
       "      <td>1819.48</td>\n",
       "      <td>1832.37</td>\n",
       "      <td>1805.7800</td>\n",
       "      <td>1819.00</td>\n",
       "      <td>1320946</td>\n",
       "      <td>1819.48</td>\n",
       "      <td>1832.37</td>\n",
       "      <td>1805.7800</td>\n",
       "      <td>1819.00</td>\n",
       "      <td>1320946</td>\n",
       "      <td>0.0</td>\n",
       "      <td>1.0</td>\n",
       "    </tr>\n",
       "    <tr>\n",
       "      <th>1255</th>\n",
       "      <td>GOOG</td>\n",
       "      <td>2020-12-08 00:00:00+00:00</td>\n",
       "      <td>1818.55</td>\n",
       "      <td>1821.90</td>\n",
       "      <td>1796.2047</td>\n",
       "      <td>1810.10</td>\n",
       "      <td>1096319</td>\n",
       "      <td>1818.55</td>\n",
       "      <td>1821.90</td>\n",
       "      <td>1796.2047</td>\n",
       "      <td>1810.10</td>\n",
       "      <td>1096319</td>\n",
       "      <td>0.0</td>\n",
       "      <td>1.0</td>\n",
       "    </tr>\n",
       "    <tr>\n",
       "      <th>1256</th>\n",
       "      <td>GOOG</td>\n",
       "      <td>2020-12-09 00:00:00+00:00</td>\n",
       "      <td>1784.13</td>\n",
       "      <td>1834.27</td>\n",
       "      <td>1767.8100</td>\n",
       "      <td>1812.01</td>\n",
       "      <td>1507558</td>\n",
       "      <td>1784.13</td>\n",
       "      <td>1834.27</td>\n",
       "      <td>1767.8100</td>\n",
       "      <td>1812.01</td>\n",
       "      <td>1507558</td>\n",
       "      <td>0.0</td>\n",
       "      <td>1.0</td>\n",
       "    </tr>\n",
       "  </tbody>\n",
       "</table>\n",
       "</div>"
      ],
      "text/plain": [
       "     symbol                       date    close     high        low     open  \\\n",
       "1252   GOOG  2020-12-03 00:00:00+00:00  1826.77  1847.20  1822.6500  1824.01   \n",
       "1253   GOOG  2020-12-04 00:00:00+00:00  1827.99  1833.16  1816.9900  1824.52   \n",
       "1254   GOOG  2020-12-07 00:00:00+00:00  1819.48  1832.37  1805.7800  1819.00   \n",
       "1255   GOOG  2020-12-08 00:00:00+00:00  1818.55  1821.90  1796.2047  1810.10   \n",
       "1256   GOOG  2020-12-09 00:00:00+00:00  1784.13  1834.27  1767.8100  1812.01   \n",
       "\n",
       "       volume  adjClose  adjHigh     adjLow  adjOpen  adjVolume  divCash  \\\n",
       "1252  1227298   1826.77  1847.20  1822.6500  1824.01    1227298      0.0   \n",
       "1253  1378166   1827.99  1833.16  1816.9900  1824.52    1378166      0.0   \n",
       "1254  1320946   1819.48  1832.37  1805.7800  1819.00    1320946      0.0   \n",
       "1255  1096319   1818.55  1821.90  1796.2047  1810.10    1096319      0.0   \n",
       "1256  1507558   1784.13  1834.27  1767.8100  1812.01    1507558      0.0   \n",
       "\n",
       "      splitFactor  \n",
       "1252          1.0  \n",
       "1253          1.0  \n",
       "1254          1.0  \n",
       "1255          1.0  \n",
       "1256          1.0  "
      ]
     },
     "execution_count": 19,
     "metadata": {},
     "output_type": "execute_result"
    }
   ],
   "source": [
    "df.tail()"
   ]
  },
  {
   "cell_type": "code",
   "execution_count": 20,
   "metadata": {},
   "outputs": [],
   "source": [
    "df1=df.reset_index()['close']"
   ]
  },
  {
   "cell_type": "code",
   "execution_count": 21,
   "metadata": {},
   "outputs": [
    {
     "data": {
      "text/plain": [
       "(1257,)"
      ]
     },
     "execution_count": 21,
     "metadata": {},
     "output_type": "execute_result"
    }
   ],
   "source": [
    "df1.shape"
   ]
  },
  {
   "cell_type": "code",
   "execution_count": 22,
   "metadata": {},
   "outputs": [
    {
     "data": {
      "text/plain": [
       "[<matplotlib.lines.Line2D at 0x23e8d35ba88>]"
      ]
     },
     "execution_count": 22,
     "metadata": {},
     "output_type": "execute_result"
    },
    {
     "data": {
      "image/png": "[encoded data removed]",
      "text/plain": [
       "<Figure size 432x288 with 1 Axes>"
      ]
     },
     "metadata": {
      "needs_background": "light"
     },
     "output_type": "display_data"
    }
   ],
   "source": [
    "import matplotlib.pyplot as plt\n",
    "plt.plot(df1)"
   ]
  },
  {
   "cell_type": "code",
   "execution_count": 23,
   "metadata": {},
   "outputs": [],
   "source": [
    "### LSTM are senstive to the scale data. so we apply MinMax scaler"
   ]
  },
  {
   "cell_type": "code",
   "execution_count": 24,
   "metadata": {},
   "outputs": [],
   "source": [
    "import numpy as np"
   ]
  },
  {
   "cell_type": "code",
   "execution_count": 25,
   "metadata": {},
   "outputs": [],
   "source": [
    "from sklearn.preprocessing import MinMaxScaler\n",
    "scaler=MinMaxScaler(feature_range=(0,1))\n",
    "df1=scaler.fit_transform(np.array(df1).reshape(-1,1))"
   ]
  },
  {
   "cell_type": "code",
   "execution_count": 26,
   "metadata": {},
   "outputs": [
    {
     "data": {
      "text/plain": [
       "(1257, 1)"
      ]
     },
     "execution_count": 26,
     "metadata": {},
     "output_type": "execute_result"
    }
   ],
   "source": [
    "df1.shape"
   ]
  },
  {
   "cell_type": "code",
   "execution_count": 27,
   "metadata": {},
   "outputs": [
    {
     "name": "stdout",
     "output_type": "stream",
     "text": [
      "[[0.06855906]\n",
      " [0.06479094]\n",
      " [0.07745768]\n",
      " ...\n",
      " [0.99266209]\n",
      " [0.99186017]\n",
      " [0.96218085]]\n"
     ]
    }
   ],
   "source": [
    "print(df1)"
   ]
  },
  {
   "cell_type": "code",
   "execution_count": 28,
   "metadata": {},
   "outputs": [],
   "source": [
    "### Spliting Data set into Train and Test split\n",
    "training_size=int(len(df1)*0.65)\n",
    "test_size=len(df1)-training_size\n",
    "train_data,test_data=df1[0:training_size,:],df1[training_size:len(df1),:1]"
   ]
  },
  {
   "cell_type": "code",
   "execution_count": 29,
   "metadata": {},
   "outputs": [
    {
     "data": {
      "text/plain": [
       "(817, 440)"
      ]
     },
     "execution_count": 29,
     "metadata": {},
     "output_type": "execute_result"
    }
   ],
   "source": [
    "training_size,test_size"
   ]
  },
  {
   "cell_type": "code",
   "execution_count": 30,
   "metadata": {},
   "outputs": [],
   "source": [
    "import numpy\n",
    "#convert an array values into dataset matrix\n",
    "def create_dataset(dataset, time_step=1):\n",
    "    dataX, dataY = [], []\n",
    "    for i in range(len(dataset)-time_step-1):\n",
    "        a = dataset[i:(i+time_step), 0] ###i=0, 0,1,2,3\n",
    "        dataX.append(a)\n",
    "        dataY.append(dataset[i + time_step, 0])\n",
    "    return numpy.array(dataX), numpy.array(dataY)"
   ]
  },
  {
   "cell_type": "code",
   "execution_count": 31,
   "metadata": {},
   "outputs": [],
   "source": [
    "###reshape into X=t,t+1, t+2, t+3 and Y=t+4\n",
    "time_step = 100\n",
    "X_train, y_train = create_dataset(train_data, time_step)\n",
    "X_test, ytest = create_dataset(test_data, time_step)"
   ]
  },
  {
   "cell_type": "code",
   "execution_count": 32,
   "metadata": {},
   "outputs": [
    {
     "name": "stdout",
     "output_type": "stream",
     "text": [
      "[[0.06855906 0.06479094 0.07745768 ... 0.02366068 0.02860148 0.03695688]\n",
      " [0.06479094 0.07745768 0.06999043 ... 0.02860148 0.03695688 0.03849172]\n",
      " [0.07745768 0.06999043 0.06126426 ... 0.03695688 0.03849172 0.04735585]\n",
      " ...\n",
      " [0.38096798 0.36559372 0.3906254  ... 0.42216723 0.40961258 0.40876756]\n",
      " [0.36559372 0.3906254  0.38580532 ... 0.40961258 0.40876756 0.43760186]\n",
      " [0.3906254  0.38580532 0.3619032  ... 0.40876756 0.43760186 0.45263984]]\n"
     ]
    }
   ],
   "source": [
    "print(X_train)"
   ]
  },
  {
   "cell_type": "code",
   "execution_count": 33,
   "metadata": {},
   "outputs": [
    {
     "name": "stdout",
     "output_type": "stream",
     "text": [
      "(716, 100)\n",
      "(716,)\n"
     ]
    },
    {
     "data": {
      "text/plain": [
       "(None, None)"
      ]
     },
     "execution_count": 33,
     "metadata": {},
     "output_type": "execute_result"
    }
   ],
   "source": [
    "print(X_train.shape), print(y_train.shape)"
   ]
  },
  {
   "cell_type": "code",
   "execution_count": 34,
   "metadata": {},
   "outputs": [
    {
     "name": "stdout",
     "output_type": "stream",
     "text": [
      "(339, 100)\n",
      "(339,)\n"
     ]
    },
    {
     "data": {
      "text/plain": [
       "(None, None)"
      ]
     },
     "execution_count": 34,
     "metadata": {},
     "output_type": "execute_result"
    }
   ],
   "source": [
    "print(X_test.shape), print(ytest.shape)"
   ]
  },
  {
   "cell_type": "code",
   "execution_count": 35,
   "metadata": {},
   "outputs": [],
   "source": [
    "# Reshape input to be [samples, time steps, features] which is required for LSTM\n",
    "X_train=X_train.reshape(X_train.shape[0],X_train.shape[1], 1)\n",
    "X_test=X_test.reshape(X_test.shape[0],X_test.shape[1], 1)"
   ]
  },
  {
   "cell_type": "code",
   "execution_count": null,
   "metadata": {},
   "outputs": [],
   "source": []
  },
  {
   "cell_type": "code",
   "execution_count": null,
   "metadata": {},
   "outputs": [],
   "source": []
  },
  {
   "cell_type": "code",
   "execution_count": 36,
   "metadata": {},
   "outputs": [],
   "source": [
    "### Creating the LSTM model\n",
    "from tensorflow.keras.models import Sequential\n",
    "from tensorflow.keras.layers import Dense\n",
    "from tensorflow.keras.layers import LSTM"
   ]
  },
  {
   "cell_type": "code",
   "execution_count": 37,
   "metadata": {},
   "outputs": [],
   "source": [
    "model=Sequential()\n",
    "model.add(LSTM(50,return_sequences=True,input_shape=(100,1)))\n",
    "model.add(LSTM(50,return_sequences=True))\n",
    "model.add(LSTM(50))\n",
    "model.add(Dense(1))\n",
    "model.compile(loss='mean_squared_error',optimizer='adam')"
   ]
  },
  {
   "cell_type": "code",
   "execution_count": 38,
   "metadata": {},
   "outputs": [
    {
     "name": "stdout",
     "output_type": "stream",
     "text": [
      "Model: \"sequential_4\"\n",
      "_________________________________________________________________\n",
      "Layer (type)                 Output Shape              Param #   \n",
      "=================================================================\n",
      "lstm_12 (LSTM)               (None, 100, 50)           10400     \n",
      "_________________________________________________________________\n",
      "lstm_13 (LSTM)               (None, 100, 50)           20200     \n",
      "_________________________________________________________________\n",
      "lstm_14 (LSTM)               (None, 50)                20200     \n",
      "_________________________________________________________________\n",
      "dense_4 (Dense)              (None, 1)                 51        \n",
      "=================================================================\n",
      "Total params: 50,851\n",
      "Trainable params: 50,851\n",
      "Non-trainable params: 0\n",
      "_________________________________________________________________\n"
     ]
    }
   ],
   "source": [
    "model.summary()"
   ]
  },
  {
   "cell_type": "code",
   "execution_count": 39,
   "metadata": {},
   "outputs": [
    {
     "name": "stdout",
     "output_type": "stream",
     "text": [
      "Train on 716 samples, validate on 339 samples\n",
      "WARNING:tensorflow:From D:\\Installation\\Anaconda2020\\lib\\site-packages\\tensorflow\\python\\ops\\math_grad.py:1250: add_dispatch_support.<locals>.wrapper (from tensorflow.python.ops.array_ops) is deprecated and will be removed in a future version.\n",
      "Instructions for updating:\n",
      "Use tf.where in 2.0, which has the same broadcast rule as np.where\n",
      "Epoch 1/100\n",
      "716/716 [==============================] - 4s 5ms/sample - loss: 0.0269 - val_loss: 0.0373\n",
      "Epoch 2/100\n",
      "716/716 [==============================] - 2s 3ms/sample - loss: 0.0061 - val_loss: 0.0153\n",
      "Epoch 3/100\n",
      "716/716 [==============================] - 2s 2ms/sample - loss: 0.0030 - val_loss: 0.0175\n",
      "Epoch 4/100\n",
      "716/716 [==============================] - 2s 2ms/sample - loss: 0.0013 - val_loss: 0.0058\n",
      "Epoch 5/100\n",
      "716/716 [==============================] - 2s 3ms/sample - loss: 0.0011 - val_loss: 0.0046\n",
      "Epoch 6/100\n",
      "716/716 [==============================] - 2s 2ms/sample - loss: 8.9514e-04 - val_loss: 0.0049\n",
      "Epoch 7/100\n",
      "716/716 [==============================] - 2s 2ms/sample - loss: 9.2737e-04 - val_loss: 0.0047\n",
      "Epoch 8/100\n",
      "716/716 [==============================] - 2s 2ms/sample - loss: 8.6728e-04 - val_loss: 0.0047\n",
      "Epoch 9/100\n",
      "716/716 [==============================] - 2s 2ms/sample - loss: 8.5203e-04 - val_loss: 0.0047\n",
      "Epoch 10/100\n",
      "716/716 [==============================] - 2s 2ms/sample - loss: 8.1524e-04 - val_loss: 0.0050\n",
      "Epoch 11/100\n",
      "716/716 [==============================] - 2s 2ms/sample - loss: 7.9382e-04 - val_loss: 0.0047\n",
      "Epoch 12/100\n",
      "716/716 [==============================] - 2s 2ms/sample - loss: 7.8834e-04 - val_loss: 0.0051\n",
      "Epoch 13/100\n",
      "716/716 [==============================] - 2s 2ms/sample - loss: 7.8681e-04 - val_loss: 0.0062\n",
      "Epoch 14/100\n",
      "716/716 [==============================] - 2s 2ms/sample - loss: 7.7083e-04 - val_loss: 0.0059\n",
      "Epoch 15/100\n",
      "716/716 [==============================] - 2s 2ms/sample - loss: 7.6985e-04 - val_loss: 0.0051\n",
      "Epoch 16/100\n",
      "716/716 [==============================] - 2s 2ms/sample - loss: 7.6506e-04 - val_loss: 0.0056\n",
      "Epoch 17/100\n",
      "716/716 [==============================] - 3s 5ms/sample - loss: 7.4495e-04 - val_loss: 0.0059\n",
      "Epoch 18/100\n",
      "716/716 [==============================] - 4s 5ms/sample - loss: 7.3713e-04 - val_loss: 0.0053\n",
      "Epoch 19/100\n",
      "716/716 [==============================] - 4s 6ms/sample - loss: 7.2870e-04 - val_loss: 0.0051\n",
      "Epoch 20/100\n",
      "716/716 [==============================] - 4s 5ms/sample - loss: 7.2626e-04 - val_loss: 0.0060\n",
      "Epoch 21/100\n",
      "716/716 [==============================] - 5s 7ms/sample - loss: 7.4963e-04 - val_loss: 0.0066\n",
      "Epoch 22/100\n",
      "716/716 [==============================] - 4s 5ms/sample - loss: 7.4090e-04 - val_loss: 0.0061\n",
      "Epoch 23/100\n",
      "716/716 [==============================] - 2s 3ms/sample - loss: 7.0088e-04 - val_loss: 0.0053\n",
      "Epoch 24/100\n",
      "716/716 [==============================] - 2s 3ms/sample - loss: 7.0988e-04 - val_loss: 0.0050\n",
      "Epoch 25/100\n",
      "716/716 [==============================] - 2s 3ms/sample - loss: 6.8720e-04 - val_loss: 0.0077\n",
      "Epoch 26/100\n",
      "716/716 [==============================] - 2s 3ms/sample - loss: 7.1481e-04 - val_loss: 0.0086\n",
      "Epoch 27/100\n",
      "716/716 [==============================] - 2s 3ms/sample - loss: 6.8945e-04 - val_loss: 0.0060\n",
      "Epoch 28/100\n",
      "716/716 [==============================] - 2s 3ms/sample - loss: 6.6047e-04 - val_loss: 0.0053\n",
      "Epoch 29/100\n",
      "716/716 [==============================] - 2s 3ms/sample - loss: 6.5858e-04 - val_loss: 0.0059\n",
      "Epoch 30/100\n",
      "716/716 [==============================] - 4s 6ms/sample - loss: 6.4223e-04 - val_loss: 0.0071\n",
      "Epoch 31/100\n",
      "716/716 [==============================] - 4s 5ms/sample - loss: 6.4121e-04 - val_loss: 0.0093\n",
      "Epoch 32/100\n",
      "716/716 [==============================] - 4s 6ms/sample - loss: 6.7349e-04 - val_loss: 0.0069\n",
      "Epoch 33/100\n",
      "716/716 [==============================] - 4s 6ms/sample - loss: 6.5588e-04 - val_loss: 0.0081\n",
      "Epoch 34/100\n",
      "716/716 [==============================] - 5s 6ms/sample - loss: 6.2531e-04 - val_loss: 0.0045\n",
      "Epoch 35/100\n",
      "716/716 [==============================] - 4s 6ms/sample - loss: 6.5919e-04 - val_loss: 0.0076\n",
      "Epoch 36/100\n",
      "716/716 [==============================] - 4s 6ms/sample - loss: 6.1607e-04 - val_loss: 0.0082\n",
      "Epoch 37/100\n",
      "716/716 [==============================] - 4s 5ms/sample - loss: 6.2991e-04 - val_loss: 0.0085\n",
      "Epoch 38/100\n",
      "716/716 [==============================] - 4s 6ms/sample - loss: 7.0198e-04 - val_loss: 0.0046\n",
      "Epoch 39/100\n",
      "716/716 [==============================] - 4s 5ms/sample - loss: 6.2360e-04 - val_loss: 0.0099\n",
      "Epoch 40/100\n",
      "716/716 [==============================] - 4s 6ms/sample - loss: 6.3580e-04 - val_loss: 0.0051\n",
      "Epoch 41/100\n",
      "716/716 [==============================] - 3s 4ms/sample - loss: 7.1299e-04 - val_loss: 0.0056\n",
      "Epoch 42/100\n",
      "716/716 [==============================] - 3s 4ms/sample - loss: 6.1761e-04 - val_loss: 0.0067\n",
      "Epoch 43/100\n",
      "716/716 [==============================] - 3s 4ms/sample - loss: 5.7108e-04 - val_loss: 0.0074\n",
      "Epoch 44/100\n",
      "716/716 [==============================] - 3s 4ms/sample - loss: 5.7011e-04 - val_loss: 0.0072\n",
      "Epoch 45/100\n",
      "716/716 [==============================] - 3s 4ms/sample - loss: 5.6574e-04 - val_loss: 0.0073\n",
      "Epoch 46/100\n",
      "716/716 [==============================] - 3s 5ms/sample - loss: 6.1287e-04 - val_loss: 0.0042\n",
      "Epoch 47/100\n",
      "716/716 [==============================] - 3s 4ms/sample - loss: 6.0042e-04 - val_loss: 0.0063\n",
      "Epoch 48/100\n",
      "716/716 [==============================] - 3s 4ms/sample - loss: 5.5465e-04 - val_loss: 0.0067\n",
      "Epoch 49/100\n",
      "716/716 [==============================] - 3s 4ms/sample - loss: 5.3556e-04 - val_loss: 0.0044\n",
      "Epoch 50/100\n",
      "716/716 [==============================] - 3s 4ms/sample - loss: 5.8235e-04 - val_loss: 0.0068\n",
      "Epoch 51/100\n",
      "716/716 [==============================] - 3s 4ms/sample - loss: 5.9667e-04 - val_loss: 0.0069\n",
      "Epoch 52/100\n",
      "716/716 [==============================] - 3s 4ms/sample - loss: 5.6109e-04 - val_loss: 0.0040\n",
      "Epoch 53/100\n",
      "716/716 [==============================] - 3s 4ms/sample - loss: 5.5367e-04 - val_loss: 0.0060\n",
      "Epoch 54/100\n",
      "716/716 [==============================] - 3s 4ms/sample - loss: 5.2176e-04 - val_loss: 0.0044\n",
      "Epoch 55/100\n",
      "716/716 [==============================] - 3s 5ms/sample - loss: 5.2589e-04 - val_loss: 0.0082\n",
      "Epoch 56/100\n",
      "716/716 [==============================] - 3s 5ms/sample - loss: 6.3867e-04 - val_loss: 0.0048\n",
      "Epoch 57/100\n",
      "716/716 [==============================] - 3s 5ms/sample - loss: 6.0432e-04 - val_loss: 0.0053\n",
      "Epoch 58/100\n",
      "716/716 [==============================] - 3s 4ms/sample - loss: 6.2858e-04 - val_loss: 0.0078\n",
      "Epoch 59/100\n",
      "716/716 [==============================] - 3s 5ms/sample - loss: 5.9305e-04 - val_loss: 0.0031\n",
      "Epoch 60/100\n",
      "716/716 [==============================] - 3s 5ms/sample - loss: 5.8903e-04 - val_loss: 0.0084\n",
      "Epoch 61/100\n",
      "716/716 [==============================] - 3s 5ms/sample - loss: 4.9798e-04 - val_loss: 0.0077\n",
      "Epoch 62/100\n",
      "716/716 [==============================] - 3s 5ms/sample - loss: 5.9479e-04 - val_loss: 0.0033\n",
      "Epoch 63/100\n",
      "716/716 [==============================] - 3s 4ms/sample - loss: 5.3064e-04 - val_loss: 0.0088\n",
      "Epoch 64/100\n",
      "716/716 [==============================] - 3s 4ms/sample - loss: 5.8565e-04 - val_loss: 0.0032\n",
      "Epoch 65/100\n",
      "716/716 [==============================] - 3s 5ms/sample - loss: 4.7083e-04 - val_loss: 0.0039\n",
      "Epoch 66/100\n",
      "716/716 [==============================] - 3s 5ms/sample - loss: 4.5386e-04 - val_loss: 0.0058\n",
      "Epoch 67/100\n",
      "716/716 [==============================] - 3s 5ms/sample - loss: 4.5762e-04 - val_loss: 0.0053\n",
      "Epoch 68/100\n",
      "716/716 [==============================] - 3s 4ms/sample - loss: 4.2378e-04 - val_loss: 0.0054\n",
      "Epoch 69/100\n",
      "716/716 [==============================] - 3s 4ms/sample - loss: 4.0439e-04 - val_loss: 0.0045\n",
      "Epoch 70/100\n",
      "716/716 [==============================] - 3s 5ms/sample - loss: 4.3317e-04 - val_loss: 0.0038\n",
      "Epoch 71/100\n",
      "716/716 [==============================] - 4s 5ms/sample - loss: 4.0662e-04 - val_loss: 0.0053\n",
      "Epoch 72/100\n",
      "716/716 [==============================] - 3s 5ms/sample - loss: 3.8900e-04 - val_loss: 0.0047\n",
      "Epoch 73/100\n",
      "716/716 [==============================] - 3s 4ms/sample - loss: 3.6908e-04 - val_loss: 0.0034\n",
      "Epoch 74/100\n",
      "716/716 [==============================] - 3s 4ms/sample - loss: 3.5992e-04 - val_loss: 0.0028\n",
      "Epoch 75/100\n",
      "716/716 [==============================] - 3s 4ms/sample - loss: 3.6286e-04 - val_loss: 0.0044\n",
      "Epoch 76/100\n",
      "716/716 [==============================] - 3s 5ms/sample - loss: 3.4365e-04 - val_loss: 0.0046\n",
      "Epoch 77/100\n",
      "716/716 [==============================] - 3s 5ms/sample - loss: 3.4318e-04 - val_loss: 0.0030\n",
      "Epoch 78/100\n",
      "716/716 [==============================] - 3s 4ms/sample - loss: 3.5769e-04 - val_loss: 0.0060\n",
      "Epoch 79/100\n",
      "716/716 [==============================] - 3s 5ms/sample - loss: 4.3869e-04 - val_loss: 0.0021\n",
      "Epoch 80/100\n",
      "716/716 [==============================] - 4s 5ms/sample - loss: 3.5803e-04 - val_loss: 0.0033\n",
      "Epoch 81/100\n",
      "716/716 [==============================] - 3s 5ms/sample - loss: 3.5497e-04 - val_loss: 0.0028\n",
      "Epoch 82/100\n",
      "716/716 [==============================] - 3s 5ms/sample - loss: 3.7911e-04 - val_loss: 0.0033\n",
      "Epoch 83/100\n",
      "716/716 [==============================] - 3s 4ms/sample - loss: 3.3415e-04 - val_loss: 0.0031\n",
      "Epoch 84/100\n",
      "716/716 [==============================] - 3s 4ms/sample - loss: 2.9315e-04 - val_loss: 0.0027\n",
      "Epoch 85/100\n",
      "716/716 [==============================] - 3s 4ms/sample - loss: 3.1201e-04 - val_loss: 0.0038\n",
      "Epoch 86/100\n",
      "716/716 [==============================] - 3s 4ms/sample - loss: 2.8834e-04 - val_loss: 0.0048\n",
      "Epoch 87/100\n",
      "716/716 [==============================] - 3s 4ms/sample - loss: 3.2123e-04 - val_loss: 0.0033\n",
      "Epoch 88/100\n",
      "716/716 [==============================] - 3s 4ms/sample - loss: 2.6907e-04 - val_loss: 0.0034\n",
      "Epoch 89/100\n",
      "716/716 [==============================] - 3s 4ms/sample - loss: 2.8108e-04 - val_loss: 0.0021\n",
      "Epoch 90/100\n",
      "716/716 [==============================] - 3s 4ms/sample - loss: 2.7288e-04 - val_loss: 0.0036\n",
      "Epoch 91/100\n",
      "716/716 [==============================] - 3s 4ms/sample - loss: 2.7761e-04 - val_loss: 0.0035\n",
      "Epoch 92/100\n",
      "716/716 [==============================] - 3s 5ms/sample - loss: 2.9582e-04 - val_loss: 0.0019\n",
      "Epoch 93/100\n",
      "716/716 [==============================] - 5s 7ms/sample - loss: 2.6453e-04 - val_loss: 0.0021\n",
      "Epoch 94/100\n",
      "716/716 [==============================] - 7s 10ms/sample - loss: 2.5379e-04 - val_loss: 0.0020\n",
      "Epoch 95/100\n",
      "716/716 [==============================] - 7s 9ms/sample - loss: 2.5772e-04 - val_loss: 0.0016\n",
      "Epoch 96/100\n",
      "716/716 [==============================] - 5s 6ms/sample - loss: 2.5457e-04 - val_loss: 0.0018\n",
      "Epoch 97/100\n",
      "716/716 [==============================] - 4s 5ms/sample - loss: 2.4178e-04 - val_loss: 0.0038\n",
      "Epoch 98/100\n",
      "716/716 [==============================] - 4s 5ms/sample - loss: 2.8599e-04 - val_loss: 0.0012\n",
      "Epoch 99/100\n",
      "716/716 [==============================] - 3s 5ms/sample - loss: 2.7218e-04 - val_loss: 0.0021\n",
      "Epoch 100/100\n",
      "716/716 [==============================] - 3s 5ms/sample - loss: 2.3427e-04 - val_loss: 0.0018\n"
     ]
    },
    {
     "data": {
      "text/plain": [
       "<tensorflow.python.keras.callbacks.History at 0x23e91e1e088>"
      ]
     },
     "execution_count": 39,
     "metadata": {},
     "output_type": "execute_result"
    }
   ],
   "source": [
    "model.fit(X_train,y_train,validation_data=(X_test,ytest),epochs=100,batch_size=64,verbose=1)"
   ]
  },
  {
   "cell_type": "code",
   "execution_count": 40,
   "metadata": {},
   "outputs": [],
   "source": [
    "import tensorflow as tf"
   ]
  },
  {
   "cell_type": "code",
   "execution_count": 43,
   "metadata": {},
   "outputs": [],
   "source": [
    "## Lets do the predictiona nd performance metrics\n",
    "train_predict=model.predict(X_train)\n",
    "test_predict=model.predict(X_test)"
   ]
  },
  {
   "cell_type": "code",
   "execution_count": 45,
   "metadata": {},
   "outputs": [],
   "source": [
    "## transform back to the original form\n",
    "train_predict=scaler.inverse_transform(train_predict)\n",
    "test_predict=scaler.inverse_transform(test_predict)"
   ]
  },
  {
   "cell_type": "code",
   "execution_count": 46,
   "metadata": {},
   "outputs": [
    {
     "data": {
      "text/plain": [
       "976.639472983143"
      ]
     },
     "execution_count": 46,
     "metadata": {},
     "output_type": "execute_result"
    }
   ],
   "source": [
    "## Calculate RMSE performance metrics\n",
    "import math\n",
    "from sklearn.metrics import mean_squared_error\n",
    "math.sqrt(mean_squared_error(y_train,train_predict))"
   ]
  },
  {
   "cell_type": "code",
   "execution_count": 47,
   "metadata": {},
   "outputs": [
    {
     "data": {
      "text/plain": [
       "1376.8628299558827"
      ]
     },
     "execution_count": 47,
     "metadata": {},
     "output_type": "execute_result"
    }
   ],
   "source": [
    "## Test data RMSE\n",
    "math.sqrt(mean_squared_error(ytest,test_predict))"
   ]
  },
  {
   "cell_type": "code",
   "execution_count": 51,
   "metadata": {},
   "outputs": [
    {
     "data": {
      "text/plain": [
       "<function matplotlib.pyplot.show(*args, **kw)>"
      ]
     },
     "execution_count": 51,
     "metadata": {},
     "output_type": "execute_result"
    },
    {
     "data": {
      "image/png": "[encoded data removed]",
      "text/plain": [
       "<Figure size 432x288 with 1 Axes>"
      ]
     },
     "metadata": {
      "needs_background": "light"
     },
     "output_type": "display_data"
    }
   ],
   "source": [
    "## Plotting\n",
    "# shift train predictions for plotting\n",
    "look_back=100\n",
    "trainPredictPlot = numpy.empty_like(df1)\n",
    "trainPredictPlot[:, :] = np.nan\n",
    "trainPredictPlot[look_back:len(train_predict)+look_back, :] = train_predict\n",
    "#shift test predictions for plotting\n",
    "testPredictPlot = numpy.empty_like(df1)\n",
    "testPredictPlot[:, :] = np.nan\n",
    "testPredictPlot[len(train_predict)+(look_back*2)+1:len(df1)-1, :] = test_predict\n",
    "#plot baseline and prediction\n",
    "plt.plot(scaler.inverse_transform(df1))\n",
    "plt.plot(trainPredictPlot)\n",
    "plt.plot(testPredictPlot)\n",
    "plt.show"
   ]
  },
  {
   "cell_type": "code",
   "execution_count": 53,
   "metadata": {},
   "outputs": [
    {
     "data": {
      "text/plain": [
       "440"
      ]
     },
     "execution_count": 53,
     "metadata": {},
     "output_type": "execute_result"
    }
   ],
   "source": [
    "len(test_data)"
   ]
  },
  {
   "cell_type": "code",
   "execution_count": 52,
   "metadata": {},
   "outputs": [
    {
     "data": {
      "text/plain": [
       "(1, 99)"
      ]
     },
     "execution_count": 52,
     "metadata": {},
     "output_type": "execute_result"
    }
   ],
   "source": [
    "x_input=test_data[341:].reshape(1,-1)\n",
    "x_input.shape"
   ]
  },
  {
   "cell_type": "code",
   "execution_count": 54,
   "metadata": {},
   "outputs": [],
   "source": [
    "temp_input=list(x_input)\n",
    "temp_input=temp_input[0].tolist()"
   ]
  },
  {
   "cell_type": "code",
   "execution_count": 2,
   "metadata": {},
   "outputs": [
    {
     "ename": "NameError",
     "evalue": "name 'temp_input' is not defined",
     "output_type": "error",
     "traceback": [
      "\u001b[1;31m---------------------------------------------------------------------------\u001b[0m",
      "\u001b[1;31mNameError\u001b[0m                                 Traceback (most recent call last)",
      "\u001b[1;32m<ipython-input-2-2a6faafeaefb>\u001b[0m in \u001b[0;36m<module>\u001b[1;34m\u001b[0m\n\u001b[0;32m      7\u001b[0m \u001b[1;32mwhile\u001b[0m\u001b[1;33m(\u001b[0m\u001b[0mi\u001b[0m\u001b[1;33m<\u001b[0m\u001b[1;36m30\u001b[0m\u001b[1;33m)\u001b[0m\u001b[1;33m:\u001b[0m\u001b[1;33m\u001b[0m\u001b[1;33m\u001b[0m\u001b[0m\n\u001b[0;32m      8\u001b[0m \u001b[1;33m\u001b[0m\u001b[0m\n\u001b[1;32m----> 9\u001b[1;33m     \u001b[1;32mif\u001b[0m \u001b[1;33m(\u001b[0m\u001b[0mlen\u001b[0m\u001b[1;33m(\u001b[0m\u001b[0mtemp_input\u001b[0m\u001b[1;33m)\u001b[0m\u001b[1;33m>\u001b[0m\u001b[1;36m100\u001b[0m\u001b[1;33m)\u001b[0m\u001b[1;33m:\u001b[0m\u001b[1;33m\u001b[0m\u001b[1;33m\u001b[0m\u001b[0m\n\u001b[0m\u001b[0;32m     10\u001b[0m         \u001b[1;31m#print(temp_input)\u001b[0m\u001b[1;33m\u001b[0m\u001b[1;33m\u001b[0m\u001b[1;33m\u001b[0m\u001b[0m\n\u001b[0;32m     11\u001b[0m         \u001b[0mx_input\u001b[0m\u001b[1;33m=\u001b[0m\u001b[0mnp\u001b[0m\u001b[1;33m.\u001b[0m\u001b[0marray\u001b[0m\u001b[1;33m(\u001b[0m\u001b[0mtemp_input\u001b[0m\u001b[1;33m[\u001b[0m\u001b[1;36m1\u001b[0m\u001b[1;33m:\u001b[0m\u001b[1;33m]\u001b[0m\u001b[1;33m)\u001b[0m\u001b[1;33m\u001b[0m\u001b[1;33m\u001b[0m\u001b[0m\n",
      "\u001b[1;31mNameError\u001b[0m: name 'temp_input' is not defined"
     ]
    }
   ],
   "source": [
    "# Demonstrate Prediction for Next 10 days\n",
    "from numpy import array\n",
    "\n",
    "lst_output=[]\n",
    "n_steps=100\n",
    "i=0\n",
    "while(i<30):\n",
    "    \n",
    "    if (len(temp_input)>100):\n",
    "        #print(temp_input)\n",
    "        x_input=np.array(temp_input[1:])\n",
    "        print(\"{} day input {}\".format(i,x_input))\n",
    "        x_input=x_input.reshape(1,-1)\n",
    "        x_input = x_input.reshape((1, n_steps, 1))\n",
    "        #print(x_input)\n",
    "        yhat = model.predict(x_input, verbose=0)\n",
    "        print(\"{} day input {}\".format(i,yhat))\n",
    "        temp_input.extend(yhat[0].tolist())\n",
    "        temp_input=temp_input[1:]\n",
    "        #print temp_input\n",
    "        lst_output.extend(yhat.tolist())\n",
    "        i=i+1\n",
    "    else:\n",
    "        x_input = x_input.reshape((1, n_steps, 1))\n",
    "        yhat = model.predict(x_input, verbose=0)\n",
    "        print(yhat[0])\n",
    "        temp_input.extend(yhat[0].tolist())\n",
    "        print(len(temp_input))\n",
    "        lst_output.extend(yhat.tolist())\n",
    "        i=i+1\n",
    "        \n",
    "print(lst_output)"
   ]
  },
  {
   "cell_type": "code",
   "execution_count": null,
   "metadata": {},
   "outputs": [],
   "source": []
  }
 ],
 "metadata": {
  "kernelspec": {
   "display_name": "Python 3",
   "language": "python",
   "name": "python3"
  },
  "language_info": {
   "codemirror_mode": {
    "name": "ipython",
    "version": 3
   },
   "file_extension": ".py",
   "mimetype": "text/x-python",
   "name": "python",
   "nbconvert_exporter": "python",
   "pygments_lexer": "ipython3",
   "version": "3.7.6"
  }
 },
 "nbformat": 4,
 "nbformat_minor": 4
}
